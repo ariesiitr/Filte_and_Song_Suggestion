{
  "nbformat": 4,
  "nbformat_minor": 0,
  "metadata": {
    "colab": {
      "name": "Recommend_Songs.ipynb",
      "provenance": []
    },
    "kernelspec": {
      "name": "python3",
      "display_name": "Python 3"
    },
    "language_info": {
      "name": "python"
    }
  },
  "cells": [
    {
      "cell_type": "code",
      "metadata": {
        "colab": {
          "base_uri": "https://localhost:8080/",
          "height": 35
        },
        "id": "43WicpEfgqOK",
        "outputId": "89966c80-6b60-435c-eaeb-3dc8ab979880"
      },
      "source": [
        "import numpy as np\n",
        "def recommend_song(emotion):\n",
        "\n",
        "  songs = {}  #stores the songs belonging to different categories\n",
        "\n",
        "  #Adding songs to the lists corresponding to different emotions/categories \n",
        "\n",
        "  songs['angry'] = ['Hayloft', 'Teenagers', \"'Till I Collapse\", 'I Hate Everything About You', 'Duality',\n",
        "                    'YuNg BrAtZ', 'Rät', 'Down with the Sickness', 'Headstrong', 'I duckinf hatw you',\n",
        "                    'Cry me a river', 'In the End', 'Blow Your Mind', 'Lie to me', 'Your love is a lie',\n",
        "                    'Welcome to my life', 'Im just a kid', 'We Are Never Ever Getting Back Together', 'Black Skinhead', 'Break Stuff']\n",
        "\n",
        "  songs['disgusted'] = [\"Dusted 'N' Disgusted (feat. 2Pac, Mac Mall & Spice 1)\", 'Daddy Issues', \"I Can't Handle Change\", 'we fell in love in october', 'Somewhere Only We Know',\n",
        "                        'SLOW DANCING IN THE DARK', 'Disgusted (with Cozz feat. Childish Major)', 'Sweater Weather', 'Talking to the Moon', 'Falling',\n",
        "                        'Look Away', 'You re so Vain', 'No Scrubs', 'Really Don t Care', 'Jealous (I Ain t With It)'\n",
        "                        'Throw Yourself Away', 'I Hate Everything About You', 'Still Don t Seem To Care', 'Pretty On The Outside', 'Rehab']\n",
        "\n",
        "  songs['fearful'] = ['Fearful Mountains', 'You Say', 'Reckless Love', 'O Come to the Altar (Live)', 'Tremble - Live',\n",
        "                      'Build My Life', 'Way Maker - Live', 'Good Good Father', 'Rescue', 'Known',\n",
        "                      'Line without a Hook', 'No one compares to you', 'Runaway', 'Where were you in the Morning?', 'Pierre',\n",
        "                      'Locked Away', 'Me and my Broken Heart', 'Troublemaker', 'I am not the only one', 'Lose you to love Me', 'Radioactive', 'Hall of Fame']\n",
        "\n",
        "  songs['happy'] = ['Walking On Sunshine', 'Here Comes The Sun - Remastered 2009', 'Tongue Tied', 'Sunday Best', 'Shut Up and Dance',\n",
        "                    'Electric Love', \"I'm Yours\", 'Uptown Funk (feat. Bruno Mars)', \"CAN'T STOP THE FEELING! (Original Song from DreamWorks Animation's 'TROLLS')\", 'Watermelon Sugar',\n",
        "                    'Higher', 'Electric Love', 'Teach Me How To Love', 'Dynamite', 'Make you mine',\n",
        "                    'Treasure', 'Holy', 'Mishri', 'Diamonds', '10000 Hours', 'Galway  Girl']\n",
        "\n",
        "  songs['neutral'] = ['Sweater Weather', 'The Less I Know The Better', 'Daddy Issues', 'SLOW DANCING IN THE DARK', 'Do I Wanna Know?', \n",
        "                      'Stressed Out', 'Are You Bored Yet? (feat. Clairo)', 'Hayloft', 'Burning Pile', 'lovely (with Khalid)',\n",
        "                      'Say Something', 'Thick and thin', 'Particular Taste', 'Nervous', 'tiktok'\n",
        "                      'Story of my Life', '18', 'Night Changes', 'Drag me down', 'Vacation', 'Good Time']\n",
        "\n",
        "  songs['sad'] = ['Jocelyn Flores', 'Get You The Moon (feat. Snøw)', 'changes', 'Someone You Loved', 'I Fall Apart',\n",
        "                  'Everybody Dies In Their Nightmares', '\tthe remedy for a broken heart (why am I so in love)', 'Hold On', 'lovely (with Khalid)', 'Falling',\n",
        "                  'A-O-K', 'Shotgun', 'Quarter Past Midnight', 'broken', 'Blood and bones',\n",
        "                  'Before you go', 'Crying in the Club', 'Arcade','Say Amen', 'High Hopes', 'Halo']\n",
        "\n",
        "  songs['surprised'] = ['Go Down on You', 'Daddy Issues', 'Freaks', 'Sweater Weather', 'Heather',\n",
        "                        \"I Can't Handle Change\", 'Falling', 'drivers license', 'Cloud 9', 'Hayloft',\n",
        "                        'Maniac', 'City of Angels', 'Sunkissed', 'Honeypie', 'Dancing in my room',\n",
        "                        'Earth', 'Break your heart', 'Tonight Tonight', 'As if its your last', 'The Fool on the hill']\n",
        "\n",
        "  list_of_length = []                           #List to store the length of all lists of different categories\n",
        "  list_of_length.append(len(songs['angry']))\n",
        "  list_of_length.append(len(songs['disgusted']))\n",
        "  list_of_length.append(len(songs['fearful']))\n",
        "  list_of_length.append(len(songs['happy']))\n",
        "  list_of_length.append(len(songs['neutral']))\n",
        "  list_of_length.append(len(songs['sad']))\n",
        "  list_of_length.append(len(songs['surprised']))\n",
        "\n",
        "  emotions = ['angry', 'disgusted', 'fearful', 'happy', 'neutral', 'sad', 'surprised']      #find the position of the emotion in the list\n",
        "  end = emotions.index(emotion)\n",
        "\n",
        "  i = np.random.randint(0, list_of_length[end])       #get a random number 0 and length of the list corresponding to the emotion passed to the function \n",
        "  return songs[emotion][i]                            #returns a random song under specified emotion \n",
        "\n",
        "recommend_song('fearful')                             #Function Call        \n"
      ],
      "execution_count": 9,
      "outputs": [
        {
          "output_type": "execute_result",
          "data": {
            "application/vnd.google.colaboratory.intrinsic+json": {
              "type": "string"
            },
            "text/plain": [
              "'Good Good Father'"
            ]
          },
          "metadata": {
            "tags": []
          },
          "execution_count": 9
        }
      ]
    }
  ]
}